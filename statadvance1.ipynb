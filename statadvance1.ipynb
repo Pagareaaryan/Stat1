{
  "nbformat": 4,
  "nbformat_minor": 0,
  "metadata": {
    "colab": {
      "provenance": []
    },
    "kernelspec": {
      "name": "python3",
      "display_name": "Python 3"
    },
    "language_info": {
      "name": "python"
    }
  },
  "cells": [
    {
      "cell_type": "markdown",
      "source": [
        "#Statistic Advance Assignment\n",
        "\n",
        "1) What is a random variable in probability theory  \n",
        "- A random variable is a variable that takes numerical values determined by the outcome of a random phenomenon.\n",
        "\n",
        "2) What are the types of random variables  \n",
        "- Random variables are classified into two types: discrete and continuous.\n",
        "\n",
        "3) What is the difference between discrete and continuous distributions  \n",
        "- Discrete distributions involve countable outcomes (e.g., number of heads), while continuous distributions involve uncountably infinite outcomes (e.g., height, weight).\n",
        "\n",
        "4) What are probability distribution functions (PDF)  \n",
        "- A PDF describes the likelihood of a random variable taking on a specific value; for continuous variables, it defines the density over a range.\n",
        "\n",
        "5) How do cumulative distribution functions (CDF) differ from probability distribution functions (PDF)  \n",
        "- CDF gives the probability that a variable is less than or equal to a certain value, while PDF gives the density (likelihood) at a specific point or interval.\n",
        "\n",
        "6) What is a discrete uniform distribution  \n",
        "- It is a distribution where each of the n outcomes has an equal probability of 1/n.\n",
        "\n",
        "7) What are the key properties of a Bernoulli distribution  \n",
        "- A Bernoulli distribution models a binary outcome (success = 1, failure = 0) with a single trial and probability `p` of success.\n",
        "\n",
        "8) What is the binomial distribution, and how is it used in probability  \n",
        "- The binomial distribution models the number of successes in a fixed number of independent Bernoulli trials with the same probability of success.\n",
        "\n",
        "9) What is the Poisson distribution and where is it applied  \n",
        "- The Poisson distribution gives the probability of a number of events occurring in a fixed interval of time/space and is used for rare events (e.g., system failures).\n",
        "\n",
        "10) What is a continuous uniform distribution  \n",
        "- It is a distribution where all outcomes in a continuous interval are equally likely, such as selecting a random number between 0 and 1.\n",
        "\n",
        "11) What are the characteristics of a normal distribution  \n",
        "- It is symmetric, bell-shaped, centered around the mean, with data distributed such that 68% lies within 1 SD, 95% within 2 SD, and 99.7% within 3 SDs.\n",
        "\n",
        "12) What is the standard normal distribution, and why is it important  \n",
        "- It is a normal distribution with mean 0 and standard deviation 1. It simplifies probability calculations and is used in Z-score standardization.\n",
        "\n",
        "13) What is the Central Limit Theorem (CLT), and why is it critical in statistics  \n",
        "- The CLT states that the sampling distribution of the sample mean approaches a normal distribution as the sample size grows, regardless of the population's distribution.\n",
        "\n",
        "14) How does the Central Limit Theorem relate to the normal distribution  \n",
        "- The CLT explains why the normal distribution is widely used—it ensures that means of large samples follow a normal curve even if the data isn't normal.\n",
        "\n",
        "15) What is the application of Z statistics in hypothesis testing  \n",
        "- Z-statistics are used to determine whether to reject the null hypothesis, especially when population variance is known and the sample size is large.\n",
        "\n",
        "16) How do you calculate a Z-score, and what does it represent  \n",
        "- Z = (X - μ) / σ; it represents how many standard deviations a data point is from the mean.\n",
        "\n",
        "17) What are point estimates and interval estimates in statistics  \n",
        "- Point estimate gives a single value as an estimate of a parameter; interval estimate provides a range (confidence interval) where the parameter lies with a certain probability.\n",
        "\n",
        "18) What is the significance of confidence intervals in statistical analysis  \n",
        "- Confidence intervals quantify uncertainty, showing the range within which the true population parameter is likely to fall with a given level of confidence (e.g., 95%).\n",
        "\n",
        "19) What is the relationship between a Z-score and a confidence interval  \n",
        "- Z-scores are used to determine the critical values for calculating confidence intervals.\n",
        "\n",
        "20) How are Z-scores used to compare different distributions  \n",
        "- Z-scores standardize data, allowing comparison of values from different distributions or scales.\n",
        "\n",
        "21) What are the assumptions for applying the Central Limit Theorem  \n",
        "- The samples must be independent, identically distributed, and sufficiently large (typically n ≥ 30).\n",
        "\n",
        "22) What is the concept of expected value in a probability distribution  \n",
        "- Expected value is the weighted average of all possible values a random variable can take, with probabilities as weights.\n",
        "\n",
        "23) How does a probability distribution relate to the expected outcome of a random variable?  \n",
        "- It defines the probabilities of each possible outcome, and the expected outcome is calculated using this distribution.\n"
      ],
      "metadata": {
        "id": "G3u5t_Z6YPAr"
      }
    }
  ]
}